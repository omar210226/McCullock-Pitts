{
  "nbformat": 4,
  "nbformat_minor": 0,
  "metadata": {
    "colab": {
      "provenance": [],
      "authorship_tag": "ABX9TyO9viVl3lHufildXQICoD0e",
      "include_colab_link": true
    },
    "kernelspec": {
      "name": "python3",
      "display_name": "Python 3"
    },
    "language_info": {
      "name": "python"
    }
  },
  "cells": [
    {
      "cell_type": "markdown",
      "metadata": {
        "id": "view-in-github",
        "colab_type": "text"
      },
      "source": [
        "<a href=\"https://colab.research.google.com/github/omar210226/McCullock-Pitts/blob/main/carpeta/Ejercicios_de_neuronas_2.ipynb\" target=\"_parent\"><img src=\"https://colab.research.google.com/assets/colab-badge.svg\" alt=\"Open In Colab\"/></a>"
      ]
    },
    {
      "cell_type": "code",
      "execution_count": 2,
      "metadata": {
        "colab": {
          "base_uri": "https://localhost:8080/"
        },
        "id": "_qLIMNU97FXG",
        "outputId": "b04b25b0-04f1-4c10-d882-35591ac76b50"
      },
      "outputs": [
        {
          "output_type": "stream",
          "name": "stdout",
          "text": [
            "\n",
            "\n",
            "COMPUERTA NOT\n",
            "==================================================\n",
            "Dato [1], Predicción 0, Pesos [-1.0], Sesgo 0.5\n",
            "Dato [0], Predicción 1, Pesos [-1.0], Sesgo 0.5\n",
            "Fin de la época 0\n",
            "Dato [1], Predicción 0, Pesos [-1.0], Sesgo 0.5\n",
            "Dato [0], Predicción 1, Pesos [-1.0], Sesgo 0.5\n",
            "Fin de la época 1\n",
            "Dato [1], Predicción 0, Pesos [-1.0], Sesgo 0.5\n",
            "Dato [0], Predicción 1, Pesos [-1.0], Sesgo 0.5\n",
            "Fin de la época 2\n",
            "Dato [1], Predicción 0, Pesos [-1.0], Sesgo 0.5\n",
            "Dato [0], Predicción 1, Pesos [-1.0], Sesgo 0.5\n",
            "Fin de la época 3\n",
            "Dato [1], Predicción 0, Pesos [-1.0], Sesgo 0.5\n",
            "Dato [0], Predicción 1, Pesos [-1.0], Sesgo 0.5\n",
            "Fin de la época 4\n"
          ]
        }
      ],
      "source": [
        "# Se define la clase\n",
        "class Perceptron:\n",
        "    def __init__(self, pesos, sesgo, tasa_de_aprendizaje):\n",
        "        self.pesos = pesos\n",
        "        self.sesgo = sesgo\n",
        "        self.tasa_de_aprendizaje = tasa_de_aprendizaje\n",
        "\n",
        "    def funcion_de_activacion(self, z):\n",
        "        if z >= 0:\n",
        "            return 1\n",
        "        else:\n",
        "            return 0\n",
        "\n",
        "    def entrenamiento(self, x, y, epocas):\n",
        "        for epoca in range(epocas):\n",
        "            for dato in x:\n",
        "                # Para NOT solo hay 1 entrada\n",
        "                if len(dato) == 1:\n",
        "                    x1 = dato[0]\n",
        "                    w1 = self.pesos[0]\n",
        "                    b = self.sesgo\n",
        "                    z = x1 * w1 + b\n",
        "                else:\n",
        "                    x1, x2 = dato[0], dato[1]\n",
        "                    w1 = self.pesos[0]\n",
        "                    w2 = self.pesos[1]\n",
        "                    b = self.sesgo\n",
        "                    z = x1 * w1 + x2 * w2 + b\n",
        "\n",
        "                y_pred = self.funcion_de_activacion(z)\n",
        "                i = x.index(dato)\n",
        "                y_real = y[i]\n",
        "\n",
        "                # Actualizamos pesos y sesgo\n",
        "                if len(dato) == 1:\n",
        "                    self.pesos[0] = w1 + self.tasa_de_aprendizaje * (y_real - y_pred) * x1\n",
        "                else:\n",
        "                    self.pesos[0] = w1 + self.tasa_de_aprendizaje * (y_real - y_pred) * x1\n",
        "                    self.pesos[1] = w2 + self.tasa_de_aprendizaje * (y_real - y_pred) * x2\n",
        "\n",
        "                self.sesgo = b + self.tasa_de_aprendizaje * (y_real - y_pred)\n",
        "\n",
        "                print(f\"Dato {dato}, Predicción {y_pred}, Pesos {self.pesos}, Sesgo {self.sesgo}\")\n",
        "            print(f\"Fin de la época {epoca}\")\n",
        "# ============================================================\n",
        "# COMPUERTA NOT\n",
        "# ============================================================\n",
        "print(\"\\n\\nCOMPUERTA NOT\")\n",
        "print(\"=\"*50)\n",
        "x = [[1], [0]]\n",
        "y = [0, 1]\n",
        "pesos = [-1]\n",
        "sesgo = 0.5\n",
        "tasa_de_aprendizaje = 0.1\n",
        "\n",
        "p = Perceptron(pesos, sesgo, tasa_de_aprendizaje)\n",
        "p.entrenamiento(x, y, 5)"
      ]
    }
  ]
}
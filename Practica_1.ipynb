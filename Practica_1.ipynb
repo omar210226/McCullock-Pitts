{
  "nbformat": 4,
  "nbformat_minor": 0,
  "metadata": {
    "colab": {
      "provenance": [],
      "authorship_tag": "ABX9TyMWevvTfJEk2PyUpQi/ohdy",
      "include_colab_link": true
    },
    "kernelspec": {
      "name": "python3",
      "display_name": "Python 3"
    },
    "language_info": {
      "name": "python"
    }
  },
  "cells": [
    {
      "cell_type": "markdown",
      "metadata": {
        "id": "view-in-github",
        "colab_type": "text"
      },
      "source": [
        "<a href=\"https://colab.research.google.com/github/omar210226/McCullock-Pitts/blob/main/Practica_1.ipynb\" target=\"_parent\"><img src=\"https://colab.research.google.com/assets/colab-badge.svg\" alt=\"Open In Colab\"/></a>"
      ]
    },
    {
      "cell_type": "code",
      "execution_count": null,
      "metadata": {
        "id": "iSicj60p7wZI"
      },
      "outputs": [],
      "source": [
        "import numpy as np\n",
        "# Entradas para la neurona\n",
        "X = np.array([\n",
        "    [0, 0],\n",
        "    [0, 1],\n",
        "    [1, 0],\n",
        "    [1, 1]\n",
        "])\n",
        "# Salidas\n",
        "Y = np.array([0, 0, 0, 1])\n",
        "# Pesos para las entradas\n",
        "W = [1, 1]\n",
        "# Umbral para la función de activación\n",
        "umbral = 2"
      ]
    },
    {
      "cell_type": "code",
      "source": [
        "class McCullochPitts:\n",
        "    def __init__(self, weights, umbral):\n",
        "        \"\"\"\n",
        "            Constructor de la neurona MCP.\n",
        "            Guarda las variables\n",
        "            weights -> vector de pesos iniciales\n",
        "            umbral -> umbral para usar en la funcion de activación\n",
        "        \"\"\"\n",
        "        self.weights = weights\n",
        "        self.umbral = umbral\n",
        "\n",
        "    def predict(self, X):\n",
        "        \"\"\"\n",
        "            Calcula la salida de la neurona para cada fila de entradas X.\n",
        "        \"\"\"\n",
        "        # Lista donde se guardarán las salidas\n",
        "        predictions = []\n",
        "        # Recorremos cada fila de entradas\n",
        "        for i in range(X.shape[0]):\n",
        "            # Calculamos la suma ponderada: w1*x1 + w2*x2\n",
        "            weighted_sum = np.dot(self.weights, X[i])\n",
        "            # Mostramos en consola la entrada y la suma ponderada\n",
        "            print(f\"Input: {X[i]}, Weighted Sum: {weighted_sum}\")\n",
        "            # Comparación con el umbral determinar si la neurona se activa o no\n",
        "            if weighted_sum >= self.umbral:\n",
        "                predictions.append(1)\n",
        "            else:\n",
        "                predictions.append(0)\n",
        "        return predictions"
      ],
      "metadata": {
        "id": "NqEHa7aJ8FLv"
      },
      "execution_count": null,
      "outputs": []
    },
    {
      "cell_type": "code",
      "source": [
        "# Instanciamos la clase McCullochPitts\n",
        "mcp = McCullochPitts(W, umbral)\n",
        "# Calculamos las predicciones\n",
        "predictions = mcp.predict(X)\n",
        "# Mostramos el resultado final\n",
        "print(\"Predictions:\", predictions)"
      ],
      "metadata": {
        "colab": {
          "base_uri": "https://localhost:8080/"
        },
        "id": "b80K-iyk8Kha",
        "outputId": "48e0cc2c-1e04-44b9-bc6c-7ce613efe6c9"
      },
      "execution_count": null,
      "outputs": [
        {
          "output_type": "stream",
          "name": "stdout",
          "text": [
            "Input: [0 0], Weighted Sum: 0\n",
            "Input: [0 1], Weighted Sum: 1\n",
            "Input: [1 0], Weighted Sum: 1\n",
            "Input: [1 1], Weighted Sum: 2\n",
            "Predictions: [0, 0, 0, 1]\n"
          ]
        }
      ]
    }
  ]
}